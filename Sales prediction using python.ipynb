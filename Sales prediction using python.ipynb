{
 "cells": [
  {
   "cell_type": "code",
   "execution_count": 1,
   "id": "40858251",
   "metadata": {},
   "outputs": [],
   "source": [
    "import numpy as np\n",
    "import pandas as pd\n",
    "import warnings\n",
    "warnings.filterwarnings('ignore')"
   ]
  },
  {
   "cell_type": "code",
   "execution_count": 2,
   "id": "a45ead02",
   "metadata": {},
   "outputs": [],
   "source": [
    "df = pd.read_csv(\"Advertising.csv\")"
   ]
  },
  {
   "cell_type": "code",
   "execution_count": 3,
   "id": "34d95136",
   "metadata": {},
   "outputs": [
    {
     "data": {
      "text/html": [
       "<div>\n",
       "<style scoped>\n",
       "    .dataframe tbody tr th:only-of-type {\n",
       "        vertical-align: middle;\n",
       "    }\n",
       "\n",
       "    .dataframe tbody tr th {\n",
       "        vertical-align: top;\n",
       "    }\n",
       "\n",
       "    .dataframe thead th {\n",
       "        text-align: right;\n",
       "    }\n",
       "</style>\n",
       "<table border=\"1\" class=\"dataframe\">\n",
       "  <thead>\n",
       "    <tr style=\"text-align: right;\">\n",
       "      <th></th>\n",
       "      <th>Unnamed: 0</th>\n",
       "      <th>TV</th>\n",
       "      <th>Radio</th>\n",
       "      <th>Newspaper</th>\n",
       "      <th>Sales</th>\n",
       "    </tr>\n",
       "  </thead>\n",
       "  <tbody>\n",
       "    <tr>\n",
       "      <th>0</th>\n",
       "      <td>1</td>\n",
       "      <td>230.1</td>\n",
       "      <td>37.8</td>\n",
       "      <td>69.2</td>\n",
       "      <td>22.1</td>\n",
       "    </tr>\n",
       "    <tr>\n",
       "      <th>1</th>\n",
       "      <td>2</td>\n",
       "      <td>44.5</td>\n",
       "      <td>39.3</td>\n",
       "      <td>45.1</td>\n",
       "      <td>10.4</td>\n",
       "    </tr>\n",
       "    <tr>\n",
       "      <th>2</th>\n",
       "      <td>3</td>\n",
       "      <td>17.2</td>\n",
       "      <td>45.9</td>\n",
       "      <td>69.3</td>\n",
       "      <td>9.3</td>\n",
       "    </tr>\n",
       "    <tr>\n",
       "      <th>3</th>\n",
       "      <td>4</td>\n",
       "      <td>151.5</td>\n",
       "      <td>41.3</td>\n",
       "      <td>58.5</td>\n",
       "      <td>18.5</td>\n",
       "    </tr>\n",
       "    <tr>\n",
       "      <th>4</th>\n",
       "      <td>5</td>\n",
       "      <td>180.8</td>\n",
       "      <td>10.8</td>\n",
       "      <td>58.4</td>\n",
       "      <td>12.9</td>\n",
       "    </tr>\n",
       "  </tbody>\n",
       "</table>\n",
       "</div>"
      ],
      "text/plain": [
       "   Unnamed: 0     TV  Radio  Newspaper  Sales\n",
       "0           1  230.1   37.8       69.2   22.1\n",
       "1           2   44.5   39.3       45.1   10.4\n",
       "2           3   17.2   45.9       69.3    9.3\n",
       "3           4  151.5   41.3       58.5   18.5\n",
       "4           5  180.8   10.8       58.4   12.9"
      ]
     },
     "execution_count": 3,
     "metadata": {},
     "output_type": "execute_result"
    }
   ],
   "source": [
    "df.head()"
   ]
  },
  {
   "cell_type": "code",
   "execution_count": 4,
   "id": "d323c972",
   "metadata": {},
   "outputs": [
    {
     "data": {
      "text/html": [
       "<div>\n",
       "<style scoped>\n",
       "    .dataframe tbody tr th:only-of-type {\n",
       "        vertical-align: middle;\n",
       "    }\n",
       "\n",
       "    .dataframe tbody tr th {\n",
       "        vertical-align: top;\n",
       "    }\n",
       "\n",
       "    .dataframe thead th {\n",
       "        text-align: right;\n",
       "    }\n",
       "</style>\n",
       "<table border=\"1\" class=\"dataframe\">\n",
       "  <thead>\n",
       "    <tr style=\"text-align: right;\">\n",
       "      <th></th>\n",
       "      <th>Unnamed: 0</th>\n",
       "      <th>TV</th>\n",
       "      <th>Radio</th>\n",
       "      <th>Newspaper</th>\n",
       "      <th>Sales</th>\n",
       "    </tr>\n",
       "  </thead>\n",
       "  <tbody>\n",
       "    <tr>\n",
       "      <th>count</th>\n",
       "      <td>200.000000</td>\n",
       "      <td>200.000000</td>\n",
       "      <td>200.000000</td>\n",
       "      <td>200.000000</td>\n",
       "      <td>200.000000</td>\n",
       "    </tr>\n",
       "    <tr>\n",
       "      <th>mean</th>\n",
       "      <td>100.500000</td>\n",
       "      <td>147.042500</td>\n",
       "      <td>23.264000</td>\n",
       "      <td>30.554000</td>\n",
       "      <td>14.022500</td>\n",
       "    </tr>\n",
       "    <tr>\n",
       "      <th>std</th>\n",
       "      <td>57.879185</td>\n",
       "      <td>85.854236</td>\n",
       "      <td>14.846809</td>\n",
       "      <td>21.778621</td>\n",
       "      <td>5.217457</td>\n",
       "    </tr>\n",
       "    <tr>\n",
       "      <th>min</th>\n",
       "      <td>1.000000</td>\n",
       "      <td>0.700000</td>\n",
       "      <td>0.000000</td>\n",
       "      <td>0.300000</td>\n",
       "      <td>1.600000</td>\n",
       "    </tr>\n",
       "    <tr>\n",
       "      <th>25%</th>\n",
       "      <td>50.750000</td>\n",
       "      <td>74.375000</td>\n",
       "      <td>9.975000</td>\n",
       "      <td>12.750000</td>\n",
       "      <td>10.375000</td>\n",
       "    </tr>\n",
       "    <tr>\n",
       "      <th>50%</th>\n",
       "      <td>100.500000</td>\n",
       "      <td>149.750000</td>\n",
       "      <td>22.900000</td>\n",
       "      <td>25.750000</td>\n",
       "      <td>12.900000</td>\n",
       "    </tr>\n",
       "    <tr>\n",
       "      <th>75%</th>\n",
       "      <td>150.250000</td>\n",
       "      <td>218.825000</td>\n",
       "      <td>36.525000</td>\n",
       "      <td>45.100000</td>\n",
       "      <td>17.400000</td>\n",
       "    </tr>\n",
       "    <tr>\n",
       "      <th>max</th>\n",
       "      <td>200.000000</td>\n",
       "      <td>296.400000</td>\n",
       "      <td>49.600000</td>\n",
       "      <td>114.000000</td>\n",
       "      <td>27.000000</td>\n",
       "    </tr>\n",
       "  </tbody>\n",
       "</table>\n",
       "</div>"
      ],
      "text/plain": [
       "       Unnamed: 0          TV       Radio   Newspaper       Sales\n",
       "count  200.000000  200.000000  200.000000  200.000000  200.000000\n",
       "mean   100.500000  147.042500   23.264000   30.554000   14.022500\n",
       "std     57.879185   85.854236   14.846809   21.778621    5.217457\n",
       "min      1.000000    0.700000    0.000000    0.300000    1.600000\n",
       "25%     50.750000   74.375000    9.975000   12.750000   10.375000\n",
       "50%    100.500000  149.750000   22.900000   25.750000   12.900000\n",
       "75%    150.250000  218.825000   36.525000   45.100000   17.400000\n",
       "max    200.000000  296.400000   49.600000  114.000000   27.000000"
      ]
     },
     "execution_count": 4,
     "metadata": {},
     "output_type": "execute_result"
    }
   ],
   "source": [
    "df.describe()"
   ]
  },
  {
   "cell_type": "code",
   "execution_count": 5,
   "id": "01a6fff3",
   "metadata": {},
   "outputs": [
    {
     "data": {
      "text/plain": [
       "(200, 5)"
      ]
     },
     "execution_count": 5,
     "metadata": {},
     "output_type": "execute_result"
    }
   ],
   "source": [
    "df.shape"
   ]
  },
  {
   "cell_type": "code",
   "execution_count": 6,
   "id": "b7952e01",
   "metadata": {},
   "outputs": [
    {
     "data": {
      "text/plain": [
       "['Unnamed: 0', 'TV', 'Radio', 'Newspaper', 'Sales']"
      ]
     },
     "execution_count": 6,
     "metadata": {},
     "output_type": "execute_result"
    }
   ],
   "source": [
    "df.columns.values.tolist()"
   ]
  },
  {
   "cell_type": "code",
   "execution_count": 7,
   "id": "332c12b7",
   "metadata": {},
   "outputs": [
    {
     "data": {
      "text/plain": [
       "<bound method NDFrame._add_numeric_operations.<locals>.sum of      Unnamed: 0     TV  Radio  Newspaper  Sales\n",
       "0         False  False  False      False  False\n",
       "1         False  False  False      False  False\n",
       "2         False  False  False      False  False\n",
       "3         False  False  False      False  False\n",
       "4         False  False  False      False  False\n",
       "..          ...    ...    ...        ...    ...\n",
       "195       False  False  False      False  False\n",
       "196       False  False  False      False  False\n",
       "197       False  False  False      False  False\n",
       "198       False  False  False      False  False\n",
       "199       False  False  False      False  False\n",
       "\n",
       "[200 rows x 5 columns]>"
      ]
     },
     "execution_count": 7,
     "metadata": {},
     "output_type": "execute_result"
    }
   ],
   "source": [
    "df.isnull().sum"
   ]
  },
  {
   "cell_type": "code",
   "execution_count": 8,
   "id": "738ad366",
   "metadata": {},
   "outputs": [],
   "source": [
    "import seaborn as sns\n",
    "import matplotlib.pyplot as plt"
   ]
  },
  {
   "cell_type": "code",
   "execution_count": 10,
   "id": "1809d242",
   "metadata": {},
   "outputs": [
    {
     "data": {
      "image/png": "[encoded data removed]",
      "text/plain": [
       "<Figure size 360x360 with 3 Axes>"
      ]
     },
     "metadata": {
      "needs_background": "light"
     },
     "output_type": "display_data"
    }
   ],
   "source": [
    "fig, axs=plt.subplots(3, figsize=(5,5))\n",
    "plt1= sns.boxplot(df['TV'], ax=axs[0])\n",
    "plt2=sns.boxplot(df['Newspaper'], ax=axs[1])\n",
    "plt3=sns.boxplot(df['Radio'], ax=axs[2])\n",
    "plt.tight_layout()"
   ]
  },
  {
   "cell_type": "code",
   "execution_count": 11,
   "id": "845494c5",
   "metadata": {},
   "outputs": [
    {
     "data": {
      "text/plain": [
       "<AxesSubplot:xlabel='Newspaper', ylabel='Density'>"
      ]
     },
     "execution_count": 11,
     "metadata": {},
     "output_type": "execute_result"
    },
    {
     "data": {
      "image/png": "[encoded data removed]",
      "text/plain": [
       "<Figure size 432x288 with 1 Axes>"
      ]
     },
     "metadata": {
      "needs_background": "light"
     },
     "output_type": "display_data"
    }
   ],
   "source": [
    "sns.distplot(df['Newspaper'])"
   ]
  },
  {
   "cell_type": "code",
   "execution_count": 12,
   "id": "9be2c8b9",
   "metadata": {},
   "outputs": [],
   "source": [
    "iqr= df.Newspaper.quantile(0.75)- df.Newspaper.quantile(0.25)"
   ]
  },
  {
   "cell_type": "code",
   "execution_count": 13,
   "id": "7a1fb83c",
   "metadata": {},
   "outputs": [
    {
     "name": "stdout",
     "output_type": "stream",
     "text": [
      "-35.775000000000006\n",
      "93.625\n"
     ]
    }
   ],
   "source": [
    "lower_bridge=df[\"Newspaper\"].quantile(0.25) - (iqr*1.5)\n",
    "upper_bridge=df[\"Newspaper\"].quantile(0.75) + (iqr*1.5)\n",
    "print(lower_bridge)\n",
    "print(upper_bridge)"
   ]
  },
  {
   "cell_type": "code",
   "execution_count": 14,
   "id": "cb770951",
   "metadata": {},
   "outputs": [
    {
     "data": {
      "text/plain": [
       "<AxesSubplot:xlabel='Newspaper'>"
      ]
     },
     "execution_count": 14,
     "metadata": {},
     "output_type": "execute_result"
    },
    {
     "data": {
      "image/png": "[encoded data removed]",
      "text/plain": [
       "<Figure size 432x288 with 1 Axes>"
      ]
     },
     "metadata": {
      "needs_background": "light"
     },
     "output_type": "display_data"
    }
   ],
   "source": [
    "data =df.copy()\n",
    "     \n",
    "\n",
    "data.loc[data[\"Newspaper\"]>=93, \"Newspaper\"]=93\n",
    "     \n",
    "\n",
    "sns.boxplot(data[\"Newspaper\"])\n",
    "     "
   ]
  },
  {
   "cell_type": "code",
   "execution_count": 15,
   "id": "265d0d8b",
   "metadata": {},
   "outputs": [
    {
     "data": {
      "image/png": "[encoded data removed]",
      "text/plain": [
       "<Figure size 432x288 with 1 Axes>"
      ]
     },
     "metadata": {
      "needs_background": "light"
     },
     "output_type": "display_data"
    }
   ],
   "source": [
    "sns.boxplot(data[\"Sales\"]);"
   ]
  },
  {
   "cell_type": "code",
   "execution_count": 16,
   "id": "1151efc8",
   "metadata": {},
   "outputs": [
    {
     "data": {
      "image/png": "[encoded data removed]",
      "text/plain": [
       "<Figure size 864x288 with 3 Axes>"
      ]
     },
     "metadata": {
      "needs_background": "light"
     },
     "output_type": "display_data"
    }
   ],
   "source": [
    "sns.pairplot(data,x_vars=['TV','Newspaper','Radio'],\n",
    "             y_vars=\"Sales\", height=4, aspect=1, kind=\"scatter\")\n",
    "plt.show()"
   ]
  },
  {
   "cell_type": "code",
   "execution_count": 17,
   "id": "a5ed9b01",
   "metadata": {},
   "outputs": [
    {
     "data": {
      "image/png": "[encoded data removed]",
      "text/plain": [
       "<Figure size 432x288 with 2 Axes>"
      ]
     },
     "metadata": {
      "needs_background": "light"
     },
     "output_type": "display_data"
    }
   ],
   "source": [
    "sns.heatmap(data.corr(),cmap=\"YlGnBu\",annot=True)\n",
    "plt.show()"
   ]
  },
  {
   "cell_type": "code",
   "execution_count": 18,
   "id": "cd21c047",
   "metadata": {},
   "outputs": [],
   "source": [
    "important_features= list(df.corr()[\"Sales\"][(df.corr()[\"Sales\"]>+0.5)|(df.corr()[\"Sales\"]<-0.5)].index)"
   ]
  },
  {
   "cell_type": "code",
   "execution_count": 19,
   "id": "31a6fbed",
   "metadata": {},
   "outputs": [
    {
     "name": "stdout",
     "output_type": "stream",
     "text": [
      "['TV', 'Radio', 'Sales']\n"
     ]
    }
   ],
   "source": [
    "  print(important_features)\n",
    "  "
   ]
  },
  {
   "cell_type": "code",
   "execution_count": 20,
   "id": "2d008afd",
   "metadata": {},
   "outputs": [],
   "source": [
    "x=data['TV']\n",
    "y=data['Sales']"
   ]
  },
  {
   "cell_type": "code",
   "execution_count": 21,
   "id": "3d31f358",
   "metadata": {},
   "outputs": [],
   "source": [
    "X=x.values.reshape(-1,1)"
   ]
  },
  {
   "cell_type": "markdown",
   "id": "120da430",
   "metadata": {},
   "source": [
    "Splitting Training And Testing Data"
   ]
  },
  {
   "cell_type": "code",
   "execution_count": 23,
   "id": "abafddb6",
   "metadata": {},
   "outputs": [
    {
     "data": {
      "text/plain": [
       "array([[230.1],\n",
       "       [ 44.5],\n",
       "       [ 17.2],\n",
       "       [151.5],\n",
       "       [180.8],\n",
       "       [  8.7],\n",
       "       [ 57.5],\n",
       "       [120.2],\n",
       "       [  8.6],\n",
       "       [199.8],\n",
       "       [ 66.1],\n",
       "       [214.7],\n",
       "       [ 23.8],\n",
       "       [ 97.5],\n",
       "       [204.1],\n",
       "       [195.4],\n",
       "       [ 67.8],\n",
       "       [281.4],\n",
       "       [ 69.2],\n",
       "       [147.3],\n",
       "       [218.4],\n",
       "       [237.4],\n",
       "       [ 13.2],\n",
       "       [228.3],\n",
       "       [ 62.3],\n",
       "       [262.9],\n",
       "       [142.9],\n",
       "       [240.1],\n",
       "       [248.8],\n",
       "       [ 70.6],\n",
       "       [292.9],\n",
       "       [112.9],\n",
       "       [ 97.2],\n",
       "       [265.6],\n",
       "       [ 95.7],\n",
       "       [290.7],\n",
       "       [266.9],\n",
       "       [ 74.7],\n",
       "       [ 43.1],\n",
       "       [228. ],\n",
       "       [202.5],\n",
       "       [177. ],\n",
       "       [293.6],\n",
       "       [206.9],\n",
       "       [ 25.1],\n",
       "       [175.1],\n",
       "       [ 89.7],\n",
       "       [239.9],\n",
       "       [227.2],\n",
       "       [ 66.9],\n",
       "       [199.8],\n",
       "       [100.4],\n",
       "       [216.4],\n",
       "       [182.6],\n",
       "       [262.7],\n",
       "       [198.9],\n",
       "       [  7.3],\n",
       "       [136.2],\n",
       "       [210.8],\n",
       "       [210.7],\n",
       "       [ 53.5],\n",
       "       [261.3],\n",
       "       [239.3],\n",
       "       [102.7],\n",
       "       [131.1],\n",
       "       [ 69. ],\n",
       "       [ 31.5],\n",
       "       [139.3],\n",
       "       [237.4],\n",
       "       [216.8],\n",
       "       [199.1],\n",
       "       [109.8],\n",
       "       [ 26.8],\n",
       "       [129.4],\n",
       "       [213.4],\n",
       "       [ 16.9],\n",
       "       [ 27.5],\n",
       "       [120.5],\n",
       "       [  5.4],\n",
       "       [116. ],\n",
       "       [ 76.4],\n",
       "       [239.8],\n",
       "       [ 75.3],\n",
       "       [ 68.4],\n",
       "       [213.5],\n",
       "       [193.2],\n",
       "       [ 76.3],\n",
       "       [110.7],\n",
       "       [ 88.3],\n",
       "       [109.8],\n",
       "       [134.3],\n",
       "       [ 28.6],\n",
       "       [217.7],\n",
       "       [250.9],\n",
       "       [107.4],\n",
       "       [163.3],\n",
       "       [197.6],\n",
       "       [184.9],\n",
       "       [289.7],\n",
       "       [135.2],\n",
       "       [222.4],\n",
       "       [296.4],\n",
       "       [280.2],\n",
       "       [187.9],\n",
       "       [238.2],\n",
       "       [137.9],\n",
       "       [ 25. ],\n",
       "       [ 90.4],\n",
       "       [ 13.1],\n",
       "       [255.4],\n",
       "       [225.8],\n",
       "       [241.7],\n",
       "       [175.7],\n",
       "       [209.6],\n",
       "       [ 78.2],\n",
       "       [ 75.1],\n",
       "       [139.2],\n",
       "       [ 76.4],\n",
       "       [125.7],\n",
       "       [ 19.4],\n",
       "       [141.3],\n",
       "       [ 18.8],\n",
       "       [224. ],\n",
       "       [123.1],\n",
       "       [229.5],\n",
       "       [ 87.2],\n",
       "       [  7.8],\n",
       "       [ 80.2],\n",
       "       [220.3],\n",
       "       [ 59.6],\n",
       "       [  0.7],\n",
       "       [265.2],\n",
       "       [  8.4],\n",
       "       [219.8],\n",
       "       [ 36.9],\n",
       "       [ 48.3],\n",
       "       [ 25.6],\n",
       "       [273.7],\n",
       "       [ 43. ],\n",
       "       [184.9],\n",
       "       [ 73.4],\n",
       "       [193.7],\n",
       "       [220.5],\n",
       "       [104.6],\n",
       "       [ 96.2],\n",
       "       [140.3],\n",
       "       [240.1],\n",
       "       [243.2],\n",
       "       [ 38. ],\n",
       "       [ 44.7],\n",
       "       [280.7],\n",
       "       [121. ],\n",
       "       [197.6],\n",
       "       [171.3],\n",
       "       [187.8],\n",
       "       [  4.1],\n",
       "       [ 93.9],\n",
       "       [149.8],\n",
       "       [ 11.7],\n",
       "       [131.7],\n",
       "       [172.5],\n",
       "       [ 85.7],\n",
       "       [188.4],\n",
       "       [163.5],\n",
       "       [117.2],\n",
       "       [234.5],\n",
       "       [ 17.9],\n",
       "       [206.8],\n",
       "       [215.4],\n",
       "       [284.3],\n",
       "       [ 50. ],\n",
       "       [164.5],\n",
       "       [ 19.6],\n",
       "       [168.4],\n",
       "       [222.4],\n",
       "       [276.9],\n",
       "       [248.4],\n",
       "       [170.2],\n",
       "       [276.7],\n",
       "       [165.6],\n",
       "       [156.6],\n",
       "       [218.5],\n",
       "       [ 56.2],\n",
       "       [287.6],\n",
       "       [253.8],\n",
       "       [205. ],\n",
       "       [139.5],\n",
       "       [191.1],\n",
       "       [286. ],\n",
       "       [ 18.7],\n",
       "       [ 39.5],\n",
       "       [ 75.5],\n",
       "       [ 17.2],\n",
       "       [166.8],\n",
       "       [149.7],\n",
       "       [ 38.2],\n",
       "       [ 94.2],\n",
       "       [177. ],\n",
       "       [283.6],\n",
       "       [232.1]])"
      ]
     },
     "execution_count": 23,
     "metadata": {},
     "output_type": "execute_result"
    }
   ],
   "source": [
    "X"
   ]
  },
  {
   "cell_type": "code",
   "execution_count": 24,
   "id": "ead978d0",
   "metadata": {},
   "outputs": [
    {
     "name": "stdout",
     "output_type": "stream",
     "text": [
      "(200, 1) (200,)\n"
     ]
    }
   ],
   "source": [
    "print(X.shape,y.shape)"
   ]
  },
  {
   "cell_type": "markdown",
   "id": "d47952cf",
   "metadata": {},
   "source": [
    "# model training"
   ]
  },
  {
   "cell_type": "code",
   "execution_count": 25,
   "id": "7dc125a1",
   "metadata": {},
   "outputs": [],
   "source": [
    "from sklearn.model_selection import train_test_split\n",
    "X_train,X_test,y_train,y_test=train_test_split(X,y, test_size=0.33)\n"
   ]
  },
  {
   "cell_type": "code",
   "execution_count": 26,
   "id": "f75e9445",
   "metadata": {},
   "outputs": [
    {
     "name": "stdout",
     "output_type": "stream",
     "text": [
      "(134, 1) (134,)\n"
     ]
    }
   ],
   "source": [
    "print(X_train.shape,y_train.shape)"
   ]
  },
  {
   "cell_type": "code",
   "execution_count": 27,
   "id": "27dbb38f",
   "metadata": {},
   "outputs": [
    {
     "data": {
      "text/plain": [
       "KNeighborsRegressor()"
      ]
     },
     "execution_count": 27,
     "metadata": {},
     "output_type": "execute_result"
    }
   ],
   "source": [
    "from sklearn.metrics import  mean_squared_error , r2_score\n",
    "from sklearn.model_selection import cross_val_score,GridSearchCV\n",
    "from sklearn.neighbors import KNeighborsRegressor\n",
    "     \n",
    "\n",
    "knn = KNeighborsRegressor().fit(X_train, y_train)\n",
    "knn"
   ]
  },
  {
   "cell_type": "code",
   "execution_count": 28,
   "id": "a5a3f766",
   "metadata": {},
   "outputs": [
    {
     "name": "stdout",
     "output_type": "stream",
     "text": [
      "[11.12 12.12 16.12 17.52 18.3  17.54 14.58 11.04 11.86 13.82 18.1   6.32\n",
      " 13.96 11.86 17.54 19.06 16.12 19.28 15.3  11.78 18.3  13.82 18.44 13.88\n",
      " 21.62 13.82 17.54 16.76 11.86  9.66 10.9  10.9  17.5  11.04  6.96 19.96\n",
      " 19.58 10.9  16.62  6.32 17.7  19.72 14.7  17.22 19.72  8.18 16.12  8.64\n",
      " 17.54 11.12  6.96 13.58 18.78 16.76 14.84 10.72 13.58  7.18 12.86 20.34\n",
      " 16.34 18.84 17.18 14.7  12.86  8.64 11.44 18.1  17.6  21.92  9.9   9.94\n",
      "  9.58 11.44  6.32 21.92 18.62  9.66 15.9  18.72 15.72 11.36  6.94 17.52\n",
      " 14.56  8.64 17.54 16.12 16.36 20.34 19.28 17.52 10.9  11.44 20.24 10.04\n",
      " 11.12 11.12  6.96 12.22 17.54 16.34 18.3  12.86  7.18 13.58 19.06 17.4\n",
      " 16.94 10.04 19.76 18.3  10.2   6.12  8.2  13.58 18.78 13.38 15.72 12.2\n",
      "  9.92 17.54 13.38 16.94 11.44 18.78  8.4  21.62  7.18  8.66 10.04  6.32\n",
      " 18.72  8.64] [12.7  12.86 12.86 21.62  6.32 18.62  6.94 10.58 17.6  11.86 10.96 11.44\n",
      " 10.14 10.9   9.9   6.32 10.9  15.9  12.78 16.38 17.54  6.32 15.9  18.78\n",
      " 13.58 17.76 12.86 16.76 12.12 21.92 13.82 10.2  11.78 14.84 13.54 11.44\n",
      " 10.9  11.12 14.48 10.58 14.94 15.22 17.9  16.92 15.9  11.98 11.56 20.24\n",
      "  6.96 14.48 14.84 14.84  7.18 14.94  9.5  19.58 18.3  11.86 17.4   6.32\n",
      " 18.   18.84 10.58 11.86  9.5  11.86]\n"
     ]
    }
   ],
   "source": [
    "knn_train_pred = knn.predict(X_train)\n",
    "     \n",
    "\n",
    "knn_test_pred = knn.predict(X_test)\n",
    "     \n",
    "\n",
    "print(knn_train_pred, knn_test_pred)"
   ]
  },
  {
   "cell_type": "code",
   "execution_count": 29,
   "id": "b329135e",
   "metadata": {},
   "outputs": [],
   "source": [
    "Results = pd.DataFrame(columns=[\"Model\",\"Train R2\",\"Test R2\",\"Test RMSE\",\"Variance\"])\n",
    "     "
   ]
  },
  {
   "cell_type": "code",
   "execution_count": 30,
   "id": "906c5d6f",
   "metadata": {},
   "outputs": [
    {
     "name": "stdout",
     "output_type": "stream",
     "text": [
      "R2: 0.5893804123151789\n",
      "RMSE: 3.203790368808909\n"
     ]
    }
   ],
   "source": [
    "r2 = r2_score(y_test,knn_test_pred)\n",
    "r2_train = r2_score(y_train,knn_train_pred)\n",
    "rmse = np.sqrt(mean_squared_error(y_test,knn_test_pred))\n",
    "variance = r2_train - r2\n",
    "Results = Results.append({\"Model\":\"K-Nearest Neighbors\",\"Train R2\":r2_train,\"Test R2\":r2,\"Test RMSE\":rmse,\"Variance\":variance},ignore_index=True)\n",
    "print(\"R2:\",r2)\n",
    "print(\"RMSE:\",rmse)"
   ]
  },
  {
   "cell_type": "code",
   "execution_count": 31,
   "id": "d7e42c5c",
   "metadata": {},
   "outputs": [
    {
     "data": {
      "text/html": [
       "<div>\n",
       "<style scoped>\n",
       "    .dataframe tbody tr th:only-of-type {\n",
       "        vertical-align: middle;\n",
       "    }\n",
       "\n",
       "    .dataframe tbody tr th {\n",
       "        vertical-align: top;\n",
       "    }\n",
       "\n",
       "    .dataframe thead th {\n",
       "        text-align: right;\n",
       "    }\n",
       "</style>\n",
       "<table border=\"1\" class=\"dataframe\">\n",
       "  <thead>\n",
       "    <tr style=\"text-align: right;\">\n",
       "      <th></th>\n",
       "      <th>Model</th>\n",
       "      <th>Train R2</th>\n",
       "      <th>Test R2</th>\n",
       "      <th>Test RMSE</th>\n",
       "      <th>Variance</th>\n",
       "    </tr>\n",
       "  </thead>\n",
       "  <tbody>\n",
       "    <tr>\n",
       "      <th>0</th>\n",
       "      <td>K-Nearest Neighbors</td>\n",
       "      <td>0.640416</td>\n",
       "      <td>0.58938</td>\n",
       "      <td>3.20379</td>\n",
       "      <td>0.051036</td>\n",
       "    </tr>\n",
       "  </tbody>\n",
       "</table>\n",
       "</div>"
      ],
      "text/plain": [
       "                 Model  Train R2  Test R2  Test RMSE  Variance\n",
       "0  K-Nearest Neighbors  0.640416  0.58938    3.20379  0.051036"
      ]
     },
     "execution_count": 31,
     "metadata": {},
     "output_type": "execute_result"
    }
   ],
   "source": [
    "Results.head()"
   ]
  },
  {
   "cell_type": "code",
   "execution_count": 32,
   "id": "0379af57",
   "metadata": {},
   "outputs": [],
   "source": [
    "import statsmodels.api as sm\n",
    "     \n",
    "\n",
    "X_train_constant = sm.add_constant(X_train)\n",
    "\n",
    "     \n",
    "\n",
    "model = sm.OLS(y_train, X_train_constant).fit()"
   ]
  },
  {
   "cell_type": "code",
   "execution_count": 33,
   "id": "f8541caf",
   "metadata": {},
   "outputs": [
    {
     "data": {
      "text/plain": [
       "const    7.158245\n",
       "x1       0.045810\n",
       "dtype: float64"
      ]
     },
     "execution_count": 33,
     "metadata": {},
     "output_type": "execute_result"
    }
   ],
   "source": [
    "model.params"
   ]
  },
  {
   "cell_type": "code",
   "execution_count": 34,
   "id": "87f8b4f4",
   "metadata": {},
   "outputs": [
    {
     "name": "stdout",
     "output_type": "stream",
     "text": [
      "                            OLS Regression Results                            \n",
      "==============================================================================\n",
      "Dep. Variable:                  Sales   R-squared:                       0.590\n",
      "Model:                            OLS   Adj. R-squared:                  0.587\n",
      "Method:                 Least Squares   F-statistic:                     190.1\n",
      "Date:                Mon, 08 May 2023   Prob (F-statistic):           2.40e-27\n",
      "Time:                        19:21:43   Log-Likelihood:                -353.86\n",
      "No. Observations:                 134   AIC:                             711.7\n",
      "Df Residuals:                     132   BIC:                             717.5\n",
      "Df Model:                           1                                         \n",
      "Covariance Type:            nonrobust                                         \n",
      "==============================================================================\n",
      "                 coef    std err          t      P>|t|      [0.025      0.975]\n",
      "------------------------------------------------------------------------------\n",
      "const          7.1582      0.583     12.274      0.000       6.005       8.312\n",
      "x1             0.0458      0.003     13.789      0.000       0.039       0.052\n",
      "==============================================================================\n",
      "Omnibus:                        0.165   Durbin-Watson:                   2.312\n",
      "Prob(Omnibus):                  0.921   Jarque-Bera (JB):                0.330\n",
      "Skew:                           0.036   Prob(JB):                        0.848\n",
      "Kurtosis:                       2.768   Cond. No.                         347.\n",
      "==============================================================================\n",
      "\n",
      "Notes:\n",
      "[1] Standard Errors assume that the covariance matrix of the errors is correctly specified.\n"
     ]
    }
   ],
   "source": [
    "print(model.summary())"
   ]
  },
  {
   "cell_type": "code",
   "execution_count": 35,
   "id": "1b395def",
   "metadata": {},
   "outputs": [
    {
     "data": {
      "image/png": "[encoded data removed]",
      "text/plain": [
       "<Figure size 432x288 with 1 Axes>"
      ]
     },
     "metadata": {
      "needs_background": "light"
     },
     "output_type": "display_data"
    }
   ],
   "source": [
    "plt.scatter(X_train, y_train)\n",
    "plt.plot(X_train, 6.9955 + 0.0541 * X_train, 'y')\n",
    "plt.show()\n"
   ]
  },
  {
   "cell_type": "code",
   "execution_count": 36,
   "id": "0bb13578",
   "metadata": {},
   "outputs": [
    {
     "data": {
      "text/plain": [
       "49    -0.522945\n",
       "19     0.693917\n",
       "50    -4.911117\n",
       "104    2.629772\n",
       "39     3.897036\n",
       "         ...   \n",
       "66     0.898735\n",
       "190    1.832253\n",
       "8     -2.752213\n",
       "92     2.268881\n",
       "136    1.169015\n",
       "Name: Sales, Length: 134, dtype: float64"
      ]
     },
     "execution_count": 36,
     "metadata": {},
     "output_type": "execute_result"
    }
   ],
   "source": [
    "y_train_pred = model.predict(X_train_constant)\n",
    "res = (y_train - y_train_pred)\n",
    "res"
   ]
  },
  {
   "cell_type": "code",
   "execution_count": 37,
   "id": "43add92c",
   "metadata": {},
   "outputs": [
    {
     "data": {
      "text/plain": [
       "array([10.22294544, 13.90608309, 16.311117  , 18.07022751, 17.60296378,\n",
       "       15.62854547, 17.50218141, 10.52071154, 10.65814205, 15.1796058 ,\n",
       "       19.83391905,  7.51556441, 12.91658342, 10.65814205, 19.20173871,\n",
       "       20.3332499 , 16.311117  , 17.02575564, 16.50810073, 14.02060851,\n",
       "       17.56631565, 15.20709191, 16.76005666, 13.19144444, 18.65201667,\n",
       "       15.26664513, 19.32542616, 15.76139496, 10.59858883,  9.37087628,\n",
       "       11.54227833, 11.61099358, 15.91256852, 10.01221866,  8.01489526,\n",
       "       19.69648854, 16.9341353 , 11.62473663, 15.44072377,  7.55679356,\n",
       "       16.03167496, 18.23056311, 17.34642683, 17.90072989, 18.29927836,\n",
       "        8.38595763, 16.26988784,  8.30808034, 19.19257667, 10.29166069,\n",
       "        8.05612441, 12.70127562, 18.1481048 , 15.76597598, 14.64820783,\n",
       "       11.94998884, 15.06049936,  7.97824712, 13.53502071, 20.42945126,\n",
       "       16.21033462, 16.6363692 , 15.52318208, 17.34642683, 13.54876376,\n",
       "        8.30349933, 12.18820172, 19.84308108, 20.18207634, 20.5760438 ,\n",
       "        9.1326634 ,  9.8885312 ,  9.60908916, 10.8322207 ,  7.54305051,\n",
       "       20.73637939, 18.85816243,  9.44875357, 17.25022548, 17.08988988,\n",
       "       14.7993814 , 10.39244307,  7.76293932, 18.03357938, 14.33211766,\n",
       "        8.24852712, 15.62854547, 16.27904988, 16.54932988, 20.47526143,\n",
       "       16.99368853, 18.03357938, 11.45982002, 10.74060036, 17.16776717,\n",
       "        8.89903153, 10.26417459, 10.3191468 ,  8.04696238, 12.47222477,\n",
       "       19.3071021 , 16.21033462, 17.67167904, 13.53960173,  7.94618   ,\n",
       "       12.67837054, 20.25995363, 16.81502886, 20.01715973,  8.90819357,\n",
       "       17.07156581, 17.69916514,  9.20595967,  7.69422407,  8.41802475,\n",
       "       12.79747698, 18.15726684, 13.35178003, 14.87267767, 12.33021325,\n",
       "        8.84864035, 19.38497939, 13.31055088, 19.99425464, 12.07825731,\n",
       "       18.14352379,  8.46841594, 18.55581531,  7.93243695,  8.60126543,\n",
       "        8.96774679,  7.55221254, 17.13111903,  8.33098543])"
      ]
     },
     "execution_count": 37,
     "metadata": {},
     "output_type": "execute_result"
    }
   ],
   "source": [
    "\n",
    "y_train_pred"
   ]
  },
  {
   "cell_type": "code",
   "execution_count": 38,
   "id": "c901663c",
   "metadata": {},
   "outputs": [
    {
     "data": {
      "image/png": "[encoded data removed]",
      "text/plain": [
       "<Figure size 432x288 with 1 Axes>"
      ]
     },
     "metadata": {
      "needs_background": "light"
     },
     "output_type": "display_data"
    }
   ],
   "source": [
    "fig = plt.figure()\n",
    "sns.distplot(res, bins = 15)\n",
    "fig.suptitle('Error Terms', fontsize = 15)\n",
    "plt.xlabel('Difference in y_train and y_train_pred', fontsize = 15)\n",
    "plt.show()"
   ]
  },
  {
   "cell_type": "code",
   "execution_count": 39,
   "id": "97113107",
   "metadata": {},
   "outputs": [
    {
     "data": {
      "image/png": "[encoded data removed]",
      "text/plain": [
       "<Figure size 432x288 with 1 Axes>"
      ]
     },
     "metadata": {
      "needs_background": "light"
     },
     "output_type": "display_data"
    }
   ],
   "source": [
    "plt.scatter(X_train, res)\n",
    "plt.show()"
   ]
  },
  {
   "cell_type": "code",
   "execution_count": 40,
   "id": "a0ddb0d7",
   "metadata": {},
   "outputs": [
    {
     "data": {
      "text/plain": [
       "array([14.0984858 , 13.5854119 , 13.3975902 , 18.53749125,  7.49265932,\n",
       "       18.78486616,  7.75835831, 11.20328307, 20.15000922, 10.6169129 ,\n",
       "       10.1862973 , 12.22943087, 11.86294952, 11.75758612,  9.12808238,\n",
       "        7.34606678, 11.47356307, 17.22732039, 12.52719698, 16.43480445,\n",
       "       19.12844244,  7.40562   , 17.25938751, 18.15726684, 12.66462749,\n",
       "       20.04922685, 13.47546749, 15.78888106, 13.70451834, 20.60811092,\n",
       "       15.26664513,  9.19679764, 14.01602749, 14.74440919, 13.63122207,\n",
       "       12.18820172, 11.56518341, 10.32830883, 13.08608105, 11.26741731,\n",
       "       15.00552716, 17.4197231 , 16.10955225, 18.1206187 , 16.00876988,\n",
       "       11.08417663, 11.15289188, 17.16318615,  8.01947627, 13.16395834,\n",
       "       14.6390458 , 14.694018  ,  7.94618   , 14.95513597,  9.79232984,\n",
       "       16.93871632, 17.61670683, 10.60775086, 16.81044785,  7.1903122 ,\n",
       "       17.79078548, 16.63178818, 11.29948443, 10.58026476,  9.73277662,\n",
       "       10.65356103])"
      ]
     },
     "execution_count": 40,
     "metadata": {},
     "output_type": "execute_result"
    }
   ],
   "source": [
    "X_test_constant = sm.add_constant(X_test)\n",
    "y_pred = model.predict(X_test_constant)\n",
    "     \n",
    "\n",
    "y_pred"
   ]
  },
  {
   "cell_type": "code",
   "execution_count": 41,
   "id": "f6a7c266",
   "metadata": {},
   "outputs": [
    {
     "data": {
      "text/plain": [
       "2.931793406323925"
      ]
     },
     "execution_count": 41,
     "metadata": {},
     "output_type": "execute_result"
    }
   ],
   "source": [
    "from sklearn.metrics import mean_squared_error\n",
    "from sklearn.metrics import r2_score\n",
    "     \n",
    "\n",
    "np.sqrt(mean_squared_error(y_test, y_pred))"
   ]
  },
  {
   "cell_type": "code",
   "execution_count": 42,
   "id": "cdc45549",
   "metadata": {},
   "outputs": [
    {
     "data": {
      "text/plain": [
       "0.6561427329263779"
      ]
     },
     "execution_count": 42,
     "metadata": {},
     "output_type": "execute_result"
    }
   ],
   "source": [
    "r2 = r2_score(y_test, y_pred)\n",
    "r2"
   ]
  },
  {
   "cell_type": "code",
   "execution_count": 43,
   "id": "2402932a",
   "metadata": {},
   "outputs": [
    {
     "data": {
      "image/png": "[encoded data removed]",
      "text/plain": [
       "<Figure size 432x288 with 1 Axes>"
      ]
     },
     "metadata": {
      "needs_background": "light"
     },
     "output_type": "display_data"
    }
   ],
   "source": [
    "plt.scatter(X_test, y_test)\n",
    "plt.plot(X_test, 6.9955 + 0.0541 * X_test, 'y')\n",
    "plt.show()"
   ]
  },
  {
   "cell_type": "code",
   "execution_count": null,
   "id": "5adac355",
   "metadata": {},
   "outputs": [],
   "source": []
  }
 ],
 "metadata": {
  "kernelspec": {
   "display_name": "Python 3",
   "language": "python",
   "name": "python3"
  },
  "language_info": {
   "codemirror_mode": {
    "name": "ipython",
    "version": 3
   },
   "file_extension": ".py",
   "mimetype": "text/x-python",
   "name": "python",
   "nbconvert_exporter": "python",
   "pygments_lexer": "ipython3",
   "version": "3.8.8"
  }
 },
 "nbformat": 4,
 "nbformat_minor": 5
}
